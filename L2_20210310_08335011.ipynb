{
 "cells": [
  {
   "cell_type": "markdown",
   "metadata": {},
   "source": [
    "if statements 條件敘述\n",
    "\n",
    "if condition(情境):\n",
    "   statement(s)\n",
    "   \n",
    "if(con1) -> elif(con2) -> else(最後一個)不給condition"
   ]
  },
  {
   "cell_type": "code",
   "execution_count": 1,
   "metadata": {},
   "outputs": [
    {
     "name": "stdout",
     "output_type": "stream",
     "text": [
      "False\n"
     ]
    }
   ],
   "source": [
    "if 3 < 2:\n",
    "    print('Yep!')\n",
    "else:\n",
    "    print('False')"
   ]
  },
  {
   "cell_type": "code",
   "execution_count": 2,
   "metadata": {},
   "outputs": [
    {
     "name": "stdout",
     "output_type": "stream",
     "text": [
      "請輸入總成績....85\n",
      "B\n"
     ]
    }
   ],
   "source": [
    "score = eval(input(\"請輸入總成績....\"))\n",
    "if score >= 90:\n",
    "    print('A')\n",
    "elif score < 90 and score >= 80:\n",
    "    print('B')\n",
    "elif score < 80 and score >= 70:\n",
    "    print('C')\n",
    "elif score < 70 and score <= 60:\n",
    "    print('D')\n",
    "else:\n",
    "    print('E')"
   ]
  },
  {
   "cell_type": "markdown",
   "metadata": {},
   "source": [
    "條件式要用and 不能用&"
   ]
  },
  {
   "cell_type": "code",
   "execution_count": null,
   "metadata": {},
   "outputs": [],
   "source": []
  },
  {
   "cell_type": "markdown",
   "metadata": {},
   "source": [
    "range\n",
    "range(initial value, end code, step value)"
   ]
  },
  {
   "cell_type": "code",
   "execution_count": 3,
   "metadata": {},
   "outputs": [
    {
     "name": "stdout",
     "output_type": "stream",
     "text": [
      "0\n",
      "1\n",
      "2\n",
      "3\n",
      "4\n"
     ]
    }
   ],
   "source": [
    "for i in range(5):\n",
    "    print(i)"
   ]
  },
  {
   "cell_type": "code",
   "execution_count": 4,
   "metadata": {},
   "outputs": [
    {
     "name": "stdout",
     "output_type": "stream",
     "text": [
      "九九乘法表......\n",
      "\n",
      "\n",
      "\n",
      "1...\n",
      "\n",
      "1*1=1\n",
      "1*2=2\n",
      "1*3=3\n",
      "1*4=4\n",
      "1*5=5\n",
      "1*6=6\n",
      "1*7=7\n",
      "1*8=8\n",
      "1*9=9\n",
      "\n",
      "\n",
      "2...\n",
      "\n",
      "2*1=2\n",
      "2*2=4\n",
      "2*3=6\n",
      "2*4=8\n",
      "2*5=10\n",
      "2*6=12\n",
      "2*7=14\n",
      "2*8=16\n",
      "2*9=18\n",
      "\n",
      "\n",
      "3...\n",
      "\n",
      "3*1=3\n",
      "3*2=6\n",
      "3*3=9\n",
      "3*4=12\n",
      "3*5=15\n",
      "3*6=18\n",
      "3*7=21\n",
      "3*8=24\n",
      "3*9=27\n",
      "\n",
      "\n",
      "4...\n",
      "\n",
      "4*1=4\n",
      "4*2=8\n",
      "4*3=12\n",
      "4*4=16\n",
      "4*5=20\n",
      "4*6=24\n",
      "4*7=28\n",
      "4*8=32\n",
      "4*9=36\n",
      "\n",
      "\n",
      "5...\n",
      "\n",
      "5*1=5\n",
      "5*2=10\n",
      "5*3=15\n",
      "5*4=20\n",
      "5*5=25\n",
      "5*6=30\n",
      "5*7=35\n",
      "5*8=40\n",
      "5*9=45\n",
      "\n",
      "\n",
      "6...\n",
      "\n",
      "6*1=6\n",
      "6*2=12\n",
      "6*3=18\n",
      "6*4=24\n",
      "6*5=30\n",
      "6*6=36\n",
      "6*7=42\n",
      "6*8=48\n",
      "6*9=54\n",
      "\n",
      "\n",
      "7...\n",
      "\n",
      "7*1=7\n",
      "7*2=14\n",
      "7*3=21\n",
      "7*4=28\n",
      "7*5=35\n",
      "7*6=42\n",
      "7*7=49\n",
      "7*8=56\n",
      "7*9=63\n",
      "\n",
      "\n",
      "8...\n",
      "\n",
      "8*1=8\n",
      "8*2=16\n",
      "8*3=24\n",
      "8*4=32\n",
      "8*5=40\n",
      "8*6=48\n",
      "8*7=56\n",
      "8*8=64\n",
      "8*9=72\n",
      "\n",
      "\n",
      "9...\n",
      "\n",
      "9*1=9\n",
      "9*2=18\n",
      "9*3=27\n",
      "9*4=36\n",
      "9*5=45\n",
      "9*6=54\n",
      "9*7=63\n",
      "9*8=72\n",
      "9*9=81\n",
      "\n",
      " 執行完畢...\n",
      "\n"
     ]
    }
   ],
   "source": [
    "print('九九乘法表......\\n')\n",
    "for i in range(1,10):\n",
    "    print ('\\n\\n'+str(i)+'...\\n')\n",
    "    for j in range(1,10):\n",
    "        num=i*j\n",
    "        print(str(i)+'*'+str(j)+'='+str(num))\n",
    "print('\\n 執行完畢...\\n')"
   ]
  },
  {
   "cell_type": "code",
   "execution_count": 5,
   "metadata": {},
   "outputs": [
    {
     "name": "stdout",
     "output_type": "stream",
     "text": [
      "i is: 1\n",
      "i is: 2\n",
      "i is: 3\n",
      "i is: 4\n"
     ]
    }
   ],
   "source": [
    "i = 1\n",
    "while (i < 5):\n",
    "    print('i is: {}'.format(i))\n",
    "    i += 1  "
   ]
  },
  {
   "cell_type": "code",
   "execution_count": 6,
   "metadata": {},
   "outputs": [
    {
     "name": "stdout",
     "output_type": "stream",
     "text": [
      "i is: 1\n",
      "i is: 2\n",
      "i is: 3\n",
      "i is: 4\n",
      "i is: 5\n",
      "i is: 6\n",
      "i is: 7\n",
      "i is: 8\n",
      "i is: 9\n",
      "i is: 11\n",
      "i is: 12\n",
      "i is: 13\n",
      "i is: 14\n"
     ]
    }
   ],
   "source": [
    "i = 0\n",
    "while True:\n",
    "    i += 1  \n",
    "    if i == 10: \n",
    "        continue         #不判斷而是回到迴圈, 執行下一個數字\n",
    "    elif i == 15:\n",
    "        break            #強制停止迴圈\n",
    "    print('i is: {}'.format(i))"
   ]
  },
  {
   "cell_type": "code",
   "execution_count": 11,
   "metadata": {},
   "outputs": [
    {
     "data": {
      "text/plain": [
       "4"
      ]
     },
     "execution_count": 11,
     "metadata": {},
     "output_type": "execute_result"
    }
   ],
   "source": [
    "def square(x):\n",
    "    return x**2\n",
    "outcome = square(2)\n",
    "outcome"
   ]
  },
  {
   "cell_type": "code",
   "execution_count": 12,
   "metadata": {},
   "outputs": [],
   "source": [
    "# random 隨機數函式\n",
    "import random"
   ]
  },
  {
   "cell_type": "markdown",
   "metadata": {},
   "source": [
    "random.randint 隨機取一個隨機整數"
   ]
  },
  {
   "cell_type": "code",
   "execution_count": 13,
   "metadata": {},
   "outputs": [
    {
     "name": "stdout",
     "output_type": "stream",
     "text": [
      "請問你出什麼拳(1是剪刀, 2是石頭, 3是布)?2\n",
      "隨機數是1\n",
      "你是石頭, 電腦是剪刀 ... 你贏!\n",
      "\n",
      "\n",
      "要繼續玩嗎(Y/N)?n\n"
     ]
    }
   ],
   "source": [
    "again = 'Y'\n",
    "while (again == 'Y' or again == 'y'):\n",
    "    player = eval(input('請問你出什麼拳(1是剪刀, 2是石頭, 3是布)?'))\n",
    "    computer = random.randint(1,3) \n",
    "    print ('隨機數是' + str(computer))\n",
    "    if (player ==1):\n",
    "        if (computer ==1):\n",
    "            print ('你是剪刀, 電腦是剪刀 ... 平手!')\n",
    "        if (computer ==2):\n",
    "            print ('你是剪刀, 電腦是石頭 ... 電腦贏!')\n",
    "        if (computer ==3):\n",
    "            print ('你是剪刀, 電腦是布 ... 你贏!')\n",
    "    if (player ==2):\n",
    "        if (computer ==1):\n",
    "            print ('你是石頭, 電腦是剪刀 ... 你贏!')\n",
    "        if (computer ==2):\n",
    "            print ('你是石頭, 電腦是石頭 ... 平手!')\n",
    "        if (computer ==3):\n",
    "            print ('你是石頭, 電腦是布 ... 電腦贏!')\n",
    "    if (player ==3):\n",
    "        if (computer ==1):\n",
    "            print ('你是布, 電腦是剪刀 ... 電腦贏!')\n",
    "        if (computer ==2):\n",
    "            print ('你是布, 電腦是石頭 ... 你贏!')\n",
    "        if (computer ==3):\n",
    "            print ('你是布, 電腦是布 ... 平手!')\n",
    "    print('\\n')\n",
    "    again = input ('要繼續玩嗎(Y/N)?')"
   ]
  },
  {
   "cell_type": "markdown",
   "metadata": {},
   "source": [
    "### Exercises\n",
    "1.You are driving a little too fast, and a police officer stops you.\n",
    "Write a function to return one of 3 possible results:\n",
    "\"No ticket\", \"Small ticket\", or \"Big Ticket\".\n",
    "\n",
    "If your speed is 60 or less, the result is \"No Ticket\".\n",
    "If speed is between 61 and 80 inclusive, the result is \"Small Ticket\".\n",
    "If speed is 81 or more, the result is \"Big Ticket\".\n",
    "Unless it is your birthday (encoded as a boolean value in the parameters of the function) -- on your birthday, your speed can be 5 higher in all cases."
   ]
  },
  {
   "cell_type": "code",
   "execution_count": 34,
   "metadata": {},
   "outputs": [
    {
     "name": "stdout",
     "output_type": "stream",
     "text": [
      "今天是你的生日嗎? Y/N Y\n",
      "你的速度是多少?60\n",
      "Small ticket\n"
     ]
    }
   ],
   "source": [
    "birth = input('今天是你的生日嗎? Y/N ')\n",
    "if birth == 'Y':\n",
    "    speed = eval(input(\"你的速度是多少?\"))\n",
    "    if speed >= 86:\n",
    "        print('Big ticket')\n",
    "    elif speed <= 85:\n",
    "        print('Small ticket')\n",
    "    elif speed <=65:\n",
    "        print('No ticket')\n",
    "if birth == 'N':\n",
    "    speed = eval(input(\"你的速度是多少?\"))\n",
    "    if speed >= 81:\n",
    "        print('Big ticket')\n",
    "    elif speed < 80 and speed >= 80:\n",
    "        print('Small ticket')\n",
    "    elif speed <60:\n",
    "        print('No ticket')\n",
    "        "
   ]
  },
  {
   "cell_type": "markdown",
   "metadata": {},
   "source": [
    "2.寫一個函數isPrime, 參數n, 判n是不是質數, 如果是回傳True, 不是回傳False"
   ]
  },
  {
   "cell_type": "code",
   "execution_count": 13,
   "metadata": {},
   "outputs": [
    {
     "name": "stdout",
     "output_type": "stream",
     "text": [
      "請輸入一個數值:5\n",
      "True\n"
     ]
    }
   ],
   "source": [
    "def is_Prime(n):\n",
    "    while n<=1:\n",
    "        print('輸入數值錯誤，請重新輸入')\n",
    "        n=int(input('請輸入一個數值'))\n",
    "   \n",
    "    for i in range(2,n+1):\n",
    "        if (n % i ) == 0:\n",
    "            return False\n",
    "        else:\n",
    "            return True\n",
    "\n",
    "a=int(input('請輸入一個數值:'))\n",
    "print(\"%s\" % is_Prime(int(a)))"
   ]
  },
  {
   "cell_type": "markdown",
   "metadata": {},
   "source": [
    "3.要求使用者輸入密碼, 並將使用者輸入的密碼儲存於password識別字中, 判斷密碼是否等於<1234>"
   ]
  },
  {
   "cell_type": "code",
   "execution_count": 32,
   "metadata": {},
   "outputs": [
    {
     "name": "stdout",
     "output_type": "stream",
     "text": [
      "請輸入四個數字：2431\n",
      "密碼錯誤，請輸入四個數字：1234\n",
      "密碼正確\n"
     ]
    }
   ],
   "source": [
    "password = '1234'\n",
    "PW = input(('請輸入四個數字：'))\n",
    "if PW != password:\n",
    "    PW = input(('密碼錯誤，請輸入四個數字：'))\n",
    "\n",
    "if PW == password:\n",
    "    print('密碼正確')\n"
   ]
  },
  {
   "cell_type": "code",
   "execution_count": null,
   "metadata": {},
   "outputs": [],
   "source": []
  },
  {
   "cell_type": "code",
   "execution_count": null,
   "metadata": {},
   "outputs": [],
   "source": []
  }
 ],
 "metadata": {
  "kernelspec": {
   "display_name": "Python 3",
   "language": "python",
   "name": "python3"
  },
  "language_info": {
   "codemirror_mode": {
    "name": "ipython",
    "version": 3
   },
   "file_extension": ".py",
   "mimetype": "text/x-python",
   "name": "python",
   "nbconvert_exporter": "python",
   "pygments_lexer": "ipython3",
   "version": "3.8.5"
  }
 },
 "nbformat": 4,
 "nbformat_minor": 4
}
